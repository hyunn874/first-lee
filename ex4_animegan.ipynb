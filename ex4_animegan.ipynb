{
 "cells": [
  {
   "cell_type": "markdown",
   "metadata": {},
   "source": [
    "___\n",
    "<a href='https://cafe.naver.com/jmhonglab'><p style=\"text-align:center;\"><img src='https://lh3.googleusercontent.com/lY3ySXooSmwsq5r-mRi7uiypbo0Vez6pmNoQxMFhl9fmZJkRHu5lO2vo7se_0YOzgmDyJif9fi4_z0o3ZFdwd8NVSWG6Ea80uWaf3pOHpR4GHGDV7kaFeuHR3yAjIJjDgfXMxsvw=w2400'  class=\"center\" width=\"50%\" height=\"50%\"/></p></a>\n",
    "___\n",
    "<center><em>Content Copyright by HongLab, Inc.</em></center>"
   ]
  },
  {
   "cell_type": "markdown",
   "metadata": {},
   "source": [
    "# 인공지능도 쉽게 사용할 수 있어요\n",
    "\n",
    "[AnimeGAN v2 파이토치 구현](https://github.com/bryandlee/animegan2-pytorch)을 사용하기 편하도록 정리한 예제입니다."
   ]
  },
  {
   "cell_type": "markdown",
   "metadata": {},
   "source": [
    "### 콘다(conda)로 가상환경 만들기\n",
    "\n",
    "윈도우에서는 powershell에서 conda를 초기화 해줘야 합니다. 참고로 Anaconda Prompt에서는 이미 초기화가 되어 있습니다.\n",
    "> conda init powershell\n",
    "\n",
    "가상환경을 만들어줍니다.  \n",
    "> conda create -n my_env python=3.8\n",
    "\n",
    "가상환경을 활성화시켜줍니다.  \n",
    "> conda activate my_env\n",
    "\n",
    "가상환경에서 나올 수도 있습니다. (비활성화)  \n",
    "> conda deactivate my_env\n",
    "\n",
    "새로 만든 가상환경 안에서 [Pytorch](https://pytorch.org/)를 설치해봅시다."
   ]
  },
  {
   "cell_type": "markdown",
   "metadata": {},
   "source": [
    "### 내 얼굴 사진을 애니메이션 캐릭터로 바꿔봐요\n",
    "\n",
    "딥러닝에서 사용되는 인공지능을 훈련시킬때는 빠른 GPU가 필요하지만 훈련이 끝난 후에는 CPU에서도 꽤 빠르게 작동합니다."
   ]
  },
  {
   "cell_type": "code",
   "execution_count": null,
   "metadata": {},
   "outputs": [],
   "source": [
    "from PIL import Image\n",
    "\n",
    "img = Image.open(\"jmhong_face.png\").convert(\"RGB\")\n",
    "\n",
    "display(img)"
   ]
  },
  {
   "cell_type": "code",
   "execution_count": null,
   "metadata": {},
   "outputs": [],
   "source": [
    "import torch\n",
    "\n",
    "\n",
    "def run(img, pretrained):\n",
    "    model = torch.hub.load(\n",
    "        \"bryandlee/animegan2-pytorch:main\", \"generator\", pretrained=pretrained\n",
    "    )\n",
    "    face2paint = torch.hub.load(\n",
    "        \"bryandlee/animegan2-pytorch:main\", \"face2paint\", size=512\n",
    "    )\n",
    "    out = face2paint(model, img)\n",
    "    display(out)"
   ]
  },
  {
   "cell_type": "code",
   "execution_count": null,
   "metadata": {},
   "outputs": [],
   "source": [
    "run(img, \"celeba_distill\")"
   ]
  },
  {
   "cell_type": "code",
   "execution_count": null,
   "metadata": {},
   "outputs": [],
   "source": [
    "run(img, \"face_paint_512_v1\")"
   ]
  },
  {
   "cell_type": "code",
   "execution_count": null,
   "metadata": {},
   "outputs": [],
   "source": [
    "run(img, \"face_paint_512_v2\")"
   ]
  },
  {
   "cell_type": "code",
   "execution_count": null,
   "metadata": {},
   "outputs": [],
   "source": [
    "run(img, \"paprika\")"
   ]
  },
  {
   "cell_type": "markdown",
   "metadata": {},
   "source": [
    "### 사진을 바꿔서 해보세요. 얼굴이 크게 나온 사진이 더 잘 됩니다."
   ]
  },
  {
   "cell_type": "markdown",
   "metadata": {},
   "source": []
  }
 ],
 "metadata": {
  "interpreter": {
   "hash": "f64e548cbf2ebb58caacc39a919b16809fbf0a70979c18e5ddba76aa9934d80e"
  },
  "kernelspec": {
   "display_name": "Python 3.9.5 64-bit ('base': conda)",
   "language": "python",
   "name": "python3"
  },
  "language_info": {
   "codemirror_mode": {
    "name": "ipython",
    "version": 3
   },
   "file_extension": ".py",
   "mimetype": "text/x-python",
   "name": "python",
   "nbconvert_exporter": "python",
   "pygments_lexer": "ipython3",
   "version": "3.9.7"
  },
  "orig_nbformat": 4
 },
 "nbformat": 4,
 "nbformat_minor": 2
}
